{
 "cells": [
  {
   "cell_type": "code",
   "execution_count": 1,
   "id": "18dd7454",
   "metadata": {},
   "outputs": [
    {
     "name": "stdout",
     "output_type": "stream",
     "text": [
      "Setup Completed\n"
     ]
    }
   ],
   "source": [
    "import io\n",
    "import qrcode\n",
    "print('Setup Completed')"
   ]
  },
  {
   "cell_type": "code",
   "execution_count": 2,
   "id": "e9fffa5e",
   "metadata": {},
   "outputs": [],
   "source": [
    "my_links= [\n",
    "    \"https://www.linkedin.com/in/ibrahim-zaitoun-121bb7219/\",\n",
    "    \"https://github.com/Ibrahim-Zaitoun\",\n",
    "    \"https://www.facebook.com/ibraheem.zaytoon.3?_rdc=1&_rdr\",\n",
    "    \"https://t.me/ibrahim_zaitoun\",\n",
    "    \"https://twitter.com/IbrahimZaitoun9\"\n",
    "]"
   ]
  },
  {
   "cell_type": "code",
   "execution_count": 3,
   "id": "8eb624b2",
   "metadata": {},
   "outputs": [],
   "source": [
    "message= \"\"\"\n",
    "Hello, I am Ibrahim Zaitoun\n",
    "Computer Science Student and Data Analyst.\n",
    "\n",
    "Follow me\n",
    "1: Linked in\n",
    "2: github\n",
    "3: FaceBook\n",
    "4: Telegram\n",
    "5: Twitter\n",
    "\n",
    "\"\"\""
   ]
  },
  {
   "cell_type": "code",
   "execution_count": 4,
   "id": "d8e19d62",
   "metadata": {},
   "outputs": [
    {
     "name": "stdout",
     "output_type": "stream",
     "text": [
      "\n",
      "Hello, I am Ibrahim Zaitoun\n",
      "Computer Science Student and Data Analyst.\n",
      "\n",
      "Follow me\n",
      "1: Linked in\n",
      "2: github\n",
      "3: FaceBook\n",
      "4: Telegram\n",
      "5: Twitter\n",
      "\n",
      "1\n",
      "                                         \n",
      "                                         \n",
      "    █▀▀▀▀▀█  ▄ ▄▀█▄▄█▀█▀▀█ ▀▄ █▀▀▀▀▀█    \n",
      "    █ ███ █ █▄▀▄▀▀▄▀▄▄▄██▀▀▄  █ ███ █    \n",
      "    █ ▀▀▀ █ █▀▄██▄ █▄▄█▀▄▄▀▀▀ █ ▀▀▀ █    \n",
      "    ▀▀▀▀▀▀▀ █▄█ ▀ ▀▄▀ ▀ ▀▄█ ▀ ▀▀▀▀▀▀▀    \n",
      "    ▀ ▀▀██▀▄  ▄ ▄▀█▀▄█▄▄ ▄▀█▀ ██▀██ ▄    \n",
      "    ▄▄▄▀ ▀▀ ▄▄█ ▀ ▄▀█▀ ▄▄▄ ▄▀▄▀ █▄█▀     \n",
      "    ▀▀██▀▀▀███▄▄▀ ▄▄▄▄██▀ ▄███▄▀▀▀ ▄█    \n",
      "    ▄█ ▀██▀▀▄ ▀█  ▄ ▄▀ ▄ ▄▀▄▀██▄ ██▀     \n",
      "      █▄  ▀▀▄▀███▀▀  █▄▄▄▄▀███▄█▀▄▄ █    \n",
      "    ▄███ ▄▀▀ ███ ▄▄▀▄█▄ ▀█▄▄ ▀ ██▄██     \n",
      "    █▀█▀▀█▀▀▄ █▄▀▀▀▄▀▄▄█▀ ▀▄▀▀▄▀▀█  ▄    \n",
      "    █ ██▄ ▀▄▄██▄▄█ █▀  ▄█▄▄  █▄██▀█▀▄    \n",
      "    ▀  ▀  ▀▀█     ▀▀▄▀█▄▄▄▀▄█▀▀▀█ ▄▀▄    \n",
      "    █▀▀▀▀▀█ ▄▀█▀  ██▀ ▀ ▄▄ ██ ▀ █▄█▀▄    \n",
      "    █ ███ █ █▄▀    ▄▄▄▀▄▀▄▀▄▀█▀▀██ ▄▄    \n",
      "    █ ▀▀▀ █ ▀█▀███▄ ▄▀ ▄ ███▀██▀▄██      \n",
      "    ▀▀▀▀▀▀▀ ▀        ▀    ▀▀▀▀▀▀ ▀ ▀     \n",
      "                                         \n",
      "                                         \n",
      "\n"
     ]
    }
   ],
   "source": [
    "social_input = int(input(message))\n",
    "social= qrcode.QRCode()\n",
    "social.add_data(my_links[social_input- 1])\n",
    "social_code= io.StringIO()\n",
    "social.print_ascii(out=social_code)\n",
    "social_code.seek(0)\n",
    "print(social_code.read())"
   ]
  },
  {
   "cell_type": "code",
   "execution_count": null,
   "id": "5b718f2a",
   "metadata": {},
   "outputs": [],
   "source": []
  }
 ],
 "metadata": {
  "kernelspec": {
   "display_name": "Python 3 (ipykernel)",
   "language": "python",
   "name": "python3"
  },
  "language_info": {
   "codemirror_mode": {
    "name": "ipython",
    "version": 3
   },
   "file_extension": ".py",
   "mimetype": "text/x-python",
   "name": "python",
   "nbconvert_exporter": "python",
   "pygments_lexer": "ipython3",
   "version": "3.9.12"
  }
 },
 "nbformat": 4,
 "nbformat_minor": 5
}
